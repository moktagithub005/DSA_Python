{
 "cells": [
  {
   "cell_type": "code",
   "execution_count": 1,
   "id": "bba168d9",
   "metadata": {},
   "outputs": [],
   "source": [
    "## return subsequences of  string\n",
    "def return_subsequences(s):\n",
    "    \"\"\"\n",
    "    Recursively finds all possible subsequences of a given string.\n",
    "\n",
    "    The function applies the \"Divide and Conquer\" principle:\n",
    "    1. Base Case: An empty string has one subsequence: the empty string itself.\n",
    "    2. Recursive Relation: For a non-empty string 's':\n",
    "       a. Get the first character: 'char = s[0]'.\n",
    "       b. Get the rest of the string: 'rest_of_s = s[1:]'.\n",
    "       c. Recursively find all subsequences of 'rest_of_s' (small_answer).\n",
    "       d. Combine Step (\"Your Work\"):\n",
    "          - All subsequences from 'small_answer' are included (these are subsequences without 'char').\n",
    "          - All subsequences formed by prefixing 'char' to each subsequence in 'small_answer' are also included (these are subsequences with 'char').\n",
    "\n",
    "    Args:\n",
    "        s (str): The input string.\n",
    "\n",
    "    Returns:\n",
    "        list: A list of all unique subsequences of the input string.\n",
    "              The order of subsequences in the list might vary.\n",
    "    \"\"\"\n",
    "    # Input validation (optional, but good practice)\n",
    "    if not isinstance(s, str):\n",
    "        print(f\"Error: Expected a string, but got {type(s).__name__}.\", file=sys.stderr)\n",
    "        return []\n",
    "\n",
    "    # Base Case: If the string is empty, return a list containing only the empty string.\n",
    "    if len(s) == 0:\n",
    "        return [\"\"]\n",
    "    \n",
    "    # Get the first character of the current string.\n",
    "    char = s[0]\n",
    "    # Get the rest of the string (from the second character onwards).\n",
    "    rest_of_s = s[1:]\n",
    "\n",
    "    # Recursive Call:\n",
    "    # Assume that recursion will correctly give us all subsequences of 'rest_of_s'.\n",
    "    # This is the 'small_answer' in the video's explanation.\n",
    "    small_answer = return_subsequences(rest_of_s) # This is a head-recursive call\n",
    "\n",
    "    # \"Your Work\" (Combine Step):\n",
    "    # Initialize the list that will hold the final subsequences for the current 's'.\n",
    "    final_answer = []\n",
    "\n",
    "    # Path 1: Add all subsequences that DO NOT include 'char'.\n",
    "    # These are simply all the subsequences returned by 'small_answer'.\n",
    "    # Using 'extend' to add all elements from small_answer to final_answer.\n",
    "    final_answer.extend(small_answer)\n",
    "\n",
    "    # Path 2: Add all subsequences that DO include 'char'.\n",
    "    # These are formed by prefixing 'char' to each subsequence in 'small_answer'.\n",
    "    for sub in small_answer:\n",
    "        final_answer.append(char + sub)\n",
    "        \n",
    "    return final_answer\n",
    "\n"
   ]
  },
  {
   "cell_type": "code",
   "execution_count": 3,
   "id": "49ca3896",
   "metadata": {},
   "outputs": [
    {
     "data": {
      "text/plain": [
       "['', 'c', 'b', 'bc', 'a', 'ac', 'ab', 'abc']"
      ]
     },
     "execution_count": 3,
     "metadata": {},
     "output_type": "execute_result"
    }
   ],
   "source": [
    "return_subsequences(\"abc\")"
   ]
  },
  {
   "cell_type": "code",
   "execution_count": null,
   "id": "1c675ac8",
   "metadata": {},
   "outputs": [],
   "source": []
  },
  {
   "cell_type": "code",
   "execution_count": null,
   "id": "2bae9c4b",
   "metadata": {},
   "outputs": [],
   "source": []
  },
  {
   "cell_type": "code",
   "execution_count": null,
   "id": "775e071c",
   "metadata": {},
   "outputs": [],
   "source": []
  },
  {
   "cell_type": "code",
   "execution_count": null,
   "id": "94ce9693",
   "metadata": {},
   "outputs": [],
   "source": []
  },
  {
   "cell_type": "code",
   "execution_count": null,
   "id": "6831c032",
   "metadata": {},
   "outputs": [],
   "source": []
  },
  {
   "cell_type": "code",
   "execution_count": null,
   "id": "1d7cc0a1",
   "metadata": {},
   "outputs": [],
   "source": []
  }
 ],
 "metadata": {
  "kernelspec": {
   "display_name": "base",
   "language": "python",
   "name": "python3"
  },
  "language_info": {
   "codemirror_mode": {
    "name": "ipython",
    "version": 3
   },
   "file_extension": ".py",
   "mimetype": "text/x-python",
   "name": "python",
   "nbconvert_exporter": "python",
   "pygments_lexer": "ipython3",
   "version": "3.12.4"
  }
 },
 "nbformat": 4,
 "nbformat_minor": 5
}
