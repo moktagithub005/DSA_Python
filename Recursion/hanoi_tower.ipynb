{
 "cells": [
  {
   "cell_type": "code",
   "execution_count": 1,
   "id": "a6e5b059",
   "metadata": {},
   "outputs": [
    {
     "name": "stdout",
     "output_type": "stream",
     "text": [
      "1 source --> destination\n",
      "2 source --> auxilliary\n",
      "3 destination --> auxilliary\n",
      "4 source --> destination\n",
      "5 auxilliary --> source\n",
      "6 auxilliary --> destination\n",
      "7 source --> destination\n",
      "8 source --> auxilliary\n",
      "9 destination --> auxilliary\n",
      "10 destination --> source\n",
      "11 auxilliary --> source\n",
      "12 destination --> auxilliary\n",
      "13 source --> destination\n",
      "14 source --> auxilliary\n",
      "15 destination --> auxilliary\n",
      "16 source --> destination\n",
      "17 auxilliary --> source\n",
      "18 auxilliary --> destination\n",
      "19 source --> destination\n",
      "20 auxilliary --> source\n",
      "21 destination --> auxilliary\n",
      "22 destination --> source\n",
      "23 auxilliary --> source\n",
      "24 auxilliary --> destination\n",
      "25 source --> destination\n",
      "26 source --> auxilliary\n",
      "27 destination --> auxilliary\n",
      "28 source --> destination\n",
      "29 auxilliary --> source\n",
      "30 auxilliary --> destination\n",
      "31 source --> destination\n"
     ]
    }
   ],
   "source": [
    "step =1\n",
    "\n",
    "def tower_of_hanoi(n,source,destination,auxiliary):\n",
    "    global step\n",
    "    if(n==0):\n",
    "        return \n",
    "    if(n==1):\n",
    "        print(step ,source,'-->',destination)\n",
    "        step+=1\n",
    "        return\n",
    "\n",
    "    tower_of_hanoi(n-1,source,auxiliary,destination)\n",
    "    print(step,source,'-->',destination)\n",
    "    step+=1\n",
    "    tower_of_hanoi(n-1,auxiliary,destination,source)\n",
    "        \n",
    "\n",
    "\n",
    "n = 5\n",
    "tower_of_hanoi(n,'source','destination','auxilliary')\n"
   ]
  },
  {
   "cell_type": "code",
   "execution_count": null,
   "id": "f5e7347b",
   "metadata": {},
   "outputs": [],
   "source": []
  },
  {
   "cell_type": "code",
   "execution_count": null,
   "id": "07ca8588",
   "metadata": {},
   "outputs": [],
   "source": []
  },
  {
   "cell_type": "code",
   "execution_count": null,
   "id": "126753f3",
   "metadata": {},
   "outputs": [],
   "source": []
  },
  {
   "cell_type": "code",
   "execution_count": null,
   "id": "07dd1aea",
   "metadata": {},
   "outputs": [],
   "source": []
  }
 ],
 "metadata": {
  "kernelspec": {
   "display_name": "base",
   "language": "python",
   "name": "python3"
  },
  "language_info": {
   "codemirror_mode": {
    "name": "ipython",
    "version": 3
   },
   "file_extension": ".py",
   "mimetype": "text/x-python",
   "name": "python",
   "nbconvert_exporter": "python",
   "pygments_lexer": "ipython3",
   "version": "3.12.4"
  }
 },
 "nbformat": 4,
 "nbformat_minor": 5
}
