{
 "cells": [
  {
   "cell_type": "markdown",
   "id": "6a0b961e",
   "metadata": {},
   "source": [
    "#The Tower of Hanoi: A Classic Recursive Puzzle\n",
    "\n",
    "The Tower of Hanoi is a mathematical puzzle consisting of three rods and a number of disks of different sizes, which can slide onto any rod. The puzzle starts with the disks in a neat stack in ascending order of size on one rod, the smallest at the top, thus making a conical shape.\n",
    "\n",
    "The objective of the puzzle is to move the entire stack from the source rod to another rod, obeying the following simple rules:\n",
    "\n",
    "Only one disk can be moved at a time.\n",
    "\n",
    "Each move consists of taking the upper disk from one of the stacks and placing it on top of another stack or on an empty rod.\n",
    "\n",
    "No disk may be placed on top of a smaller disk.\n",
    "\n",
    "How it Works: The Recursive Solution\n",
    "The beauty of the Tower of Hanoi lies in its elegant recursive solution. Let's imagine we want to move n disks from a source peg to a destination peg, using an auxiliary (temporary) peg.\n",
    "\n",
    "The core idea is to break down the problem into smaller, similar subproblems:\n",
    "\n",
    "Move n-1 disks from source to auxiliary: This frees up the largest disk (n) on the source peg.\n",
    "\n",
    "Move the largest disk (n) from source to destination: This is a single, direct move.\n",
    "\n",
    "Move the n-1 disks from auxiliary to destination: Now, the n-1 disks are on the auxiliary peg, and we need to move them to the destination peg, using the source peg as the new auxiliary.\n",
    "\n",
    "This recursive process continues until we reach the base case.\n",
    "\n",
    "Base Cases:\n",
    "n = 0 (No disks): If there are no disks to move, do nothing. The function simply returns. This is the ultimate stopping condition for the recursion.\n",
    "\n",
    "n = 1 (One disk): If there's only one disk, simply move it directly from the source to the destination. This is the simplest possible move."
   ]
  },
  {
   "cell_type": "code",
   "execution_count": 1,
   "id": "a6e5b059",
   "metadata": {},
   "outputs": [
    {
     "name": "stdout",
     "output_type": "stream",
     "text": [
      "1 source --> destination\n",
      "2 source --> auxilliary\n",
      "3 destination --> auxilliary\n",
      "4 source --> destination\n",
      "5 auxilliary --> source\n",
      "6 auxilliary --> destination\n",
      "7 source --> destination\n",
      "8 source --> auxilliary\n",
      "9 destination --> auxilliary\n",
      "10 destination --> source\n",
      "11 auxilliary --> source\n",
      "12 destination --> auxilliary\n",
      "13 source --> destination\n",
      "14 source --> auxilliary\n",
      "15 destination --> auxilliary\n",
      "16 source --> destination\n",
      "17 auxilliary --> source\n",
      "18 auxilliary --> destination\n",
      "19 source --> destination\n",
      "20 auxilliary --> source\n",
      "21 destination --> auxilliary\n",
      "22 destination --> source\n",
      "23 auxilliary --> source\n",
      "24 auxilliary --> destination\n",
      "25 source --> destination\n",
      "26 source --> auxilliary\n",
      "27 destination --> auxilliary\n",
      "28 source --> destination\n",
      "29 auxilliary --> source\n",
      "30 auxilliary --> destination\n",
      "31 source --> destination\n"
     ]
    }
   ],
   "source": [
    "step =1\n",
    "\n",
    "def tower_of_hanoi(n,source,destination,auxiliary):\n",
    "    global step\n",
    "    if(n==0):\n",
    "        return \n",
    "    if(n==1):\n",
    "        print(step ,source,'-->',destination)\n",
    "        step+=1\n",
    "        return\n",
    "\n",
    "    tower_of_hanoi(n-1,source,auxiliary,destination)\n",
    "    print(step,source,'-->',destination)\n",
    "    step+=1\n",
    "    tower_of_hanoi(n-1,auxiliary,destination,source)\n",
    "        \n",
    "\n",
    "\n",
    "n = 5\n",
    "tower_of_hanoi(n,'source','destination','auxilliary')\n"
   ]
  },
  {
   "cell_type": "code",
   "execution_count": null,
   "id": "f5e7347b",
   "metadata": {},
   "outputs": [],
   "source": []
  },
  {
   "cell_type": "code",
   "execution_count": null,
   "id": "07ca8588",
   "metadata": {},
   "outputs": [],
   "source": []
  },
  {
   "cell_type": "code",
   "execution_count": null,
   "id": "126753f3",
   "metadata": {},
   "outputs": [],
   "source": []
  },
  {
   "cell_type": "code",
   "execution_count": null,
   "id": "07dd1aea",
   "metadata": {},
   "outputs": [],
   "source": []
  }
 ],
 "metadata": {
  "kernelspec": {
   "display_name": "base",
   "language": "python",
   "name": "python3"
  },
  "language_info": {
   "codemirror_mode": {
    "name": "ipython",
    "version": 3
   },
   "file_extension": ".py",
   "mimetype": "text/x-python",
   "name": "python",
   "nbconvert_exporter": "python",
   "pygments_lexer": "ipython3",
   "version": "3.12.4"
  }
 },
 "nbformat": 4,
 "nbformat_minor": 5
}
