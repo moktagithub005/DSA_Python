{
 "cells": [
  {
   "cell_type": "code",
   "execution_count": 9,
   "id": "e9d0209e",
   "metadata": {},
   "outputs": [],
   "source": [
    "## factorial of one \n",
    "## recursion is when the solution of the problem depends on the same smaller problem\n",
    "\n",
    "def factorial(n):\n",
    "    if(n==1):\n",
    "        return 1  # Corrected base case: return 1\n",
    "    fact=factorial(n-1)\n",
    "    ans=n*fact\n",
    "    return ans\n",
    "\n"
   ]
  },
  {
   "cell_type": "code",
   "execution_count": 10,
   "id": "0fc781a9",
   "metadata": {},
   "outputs": [
    {
     "data": {
      "text/plain": [
       "6"
      ]
     },
     "execution_count": 10,
     "metadata": {},
     "output_type": "execute_result"
    }
   ],
   "source": [
    "factorial(3)"
   ]
  },
  {
   "cell_type": "markdown",
   "id": "5e619456",
   "metadata": {},
   "source": [
    "Let's break down the provided factorial function and understand how it attempts to calculate the factorial using recursion, while also highlighting a crucial error in its logic.\n",
    "\n",
    "Understanding Recursion in Factorial Calculation:\n",
    "\n",
    "The factorial of a non-negative integer n, denoted by n!, is the product of all positive integers less than or equal to n. For example:\n",
    "\n",
    "5! = 5 * 4 * 3 * 2 * 1 = 120\n",
    "4! = 4 * 3 * 2 * 1 = 24\n",
    "3! = 3 * 2 * 1 = 6\n",
    "2! = 2 * 1 = 2\n",
    "1! = 1\n",
    "0! = 1 (by definition)\n",
    "The recursive definition of factorial is based on the idea that the factorial of a number can be expressed in terms of the factorial of a smaller number:\n",
    "\n",
    "n! = n * (n-1)! for n > 1\n",
    "1! = 1 (base case)\n",
    "0! = 1 (another common base case)"
   ]
  },
  {
   "cell_type": "code",
   "execution_count": 11,
   "id": "88423ef0",
   "metadata": {},
   "outputs": [],
   "source": [
    "def factorial_correct(n):\n",
    "    if n == 0:  # Base case for 0!\n",
    "        return 1\n",
    "    elif n == 1: # Base case for 1!\n",
    "        return 1\n",
    "    else:\n",
    "        fact = factorial_correct(n - 1)\n",
    "        ans = n * fact\n",
    "        return ans"
   ]
  },
  {
   "cell_type": "code",
   "execution_count": null,
   "id": "35e234da",
   "metadata": {},
   "outputs": [],
   "source": [
    "# Alternatively, a more concise version:\n",
    "def factorial_concise(n):\n",
    "    if n <= 1:\n",
    "        return 1\n",
    "    else:\n",
    "        return n * factorial_concise(n - 1)\n"
   ]
  },
  {
   "cell_type": "code",
   "execution_count": null,
   "id": "fc179f14",
   "metadata": {},
   "outputs": [],
   "source": []
  }
 ],
 "metadata": {
  "kernelspec": {
   "display_name": "base",
   "language": "python",
   "name": "python3"
  },
  "language_info": {
   "codemirror_mode": {
    "name": "ipython",
    "version": 3
   },
   "file_extension": ".py",
   "mimetype": "text/x-python",
   "name": "python",
   "nbconvert_exporter": "python",
   "pygments_lexer": "ipython3",
   "version": "3.12.4"
  }
 },
 "nbformat": 4,
 "nbformat_minor": 5
}
