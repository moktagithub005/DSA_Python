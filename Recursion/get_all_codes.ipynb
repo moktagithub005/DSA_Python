{
 "cells": [
  {
   "cell_type": "markdown",
   "id": "14bfb533",
   "metadata": {},
   "source": [
    "#Problem: Return All Codes\n",
    "\n",
    "Input: A string of numbers (e.g., \"123\").\n",
    "\n",
    "Output: A list of all possible letter combinations.\n",
    "\n",
    "Mapping: '1' -> 'a', '2' -> 'b', ..., '26' -> 'z'.\n",
    "\n",
    "Constraints: Input cannot start with '0'. Digits should be between 1 and 26 for conversion."
   ]
  },
  {
   "cell_type": "code",
   "execution_count": null,
   "id": "794c736c",
   "metadata": {},
   "outputs": [],
   "source": []
  },
  {
   "cell_type": "code",
   "execution_count": null,
   "id": "2baf6e74",
   "metadata": {},
   "outputs": [],
   "source": []
  },
  {
   "cell_type": "code",
   "execution_count": null,
   "id": "19420b85",
   "metadata": {},
   "outputs": [],
   "source": []
  },
  {
   "cell_type": "code",
   "execution_count": null,
   "id": "11f1421d",
   "metadata": {},
   "outputs": [],
   "source": []
  },
  {
   "cell_type": "code",
   "execution_count": null,
   "id": "23bbf918",
   "metadata": {},
   "outputs": [],
   "source": []
  },
  {
   "cell_type": "code",
   "execution_count": null,
   "id": "fbed0121",
   "metadata": {},
   "outputs": [],
   "source": []
  }
 ],
 "metadata": {
  "language_info": {
   "name": "python"
  }
 },
 "nbformat": 4,
 "nbformat_minor": 5
}
