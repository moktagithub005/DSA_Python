{
 "cells": [
  {
   "cell_type": "markdown",
   "id": "b806c02a",
   "metadata": {},
   "source": [
    "The Building Block: The Node\n",
    "\n",
    "If you recall from our last discussion, each element in a linked list needs to store two crucial pieces of information:\n",
    "\n",
    "Data: The actual value or information for that element.\n",
    "\n",
    "Address of the Next Element: A reference or pointer to the next element (node) in the sequence.\n",
    "\n",
    "This structure, which combines data and a pointer to the next element, is formally known as a Node. Therefore, a linked list is essentially a collection of these nodes, where each node holds some data and a reference to the subsequent node.\n",
    "\n",
    "Why Classes (OOP) for Nodes?\n",
    "\n",
    "In standard programming languages like C++ or Java, you'd typically define a struct or a class to create this Node structure. In Python, while we don't have structs in the same way, classes are the perfect tool for creating custom, user-defined data types.\n",
    "\n",
    "Since there isn't a built-in Python data type that directly combines \"data\" and a \"next address\" in this specific manner, we leverage our knowledge of Object-Oriented Programming (OOP) and classes to define our Node. If you're a bit rusty on Python classes, it's highly recommended to review the OOP concepts as we'll be using them extensively."
   ]
  },
  {
   "cell_type": "code",
   "execution_count": 1,
   "id": "dc422b31",
   "metadata": {},
   "outputs": [],
   "source": [
    "class Node:\n",
    "    def __init__(self, data):\n",
    "        \"\"\"\n",
    "        Constructor for the Node class.\n",
    "        Initializes a new node with the given data and sets its 'next' pointer to None.\n",
    "        \"\"\"\n",
    "        self.data = data  # Stores the actual data for this node\n",
    "        self.next = None  # Stores the reference to the next node (initially None)"
   ]
  },
  {
   "cell_type": "markdown",
   "id": "70211f28",
   "metadata": {},
   "source": [
    "\n",
    "Explanation of the Node Class:\n",
    "\n",
    "class Node:: This line defines our new custom data type named Node.\n",
    "\n",
    "def __init__(self, data):: This is the constructor method. It's automatically called whenever a new Node object is created.\n",
    "\n",
    "self: Refers to the instance of the Node being created.\n",
    "\n",
    "data: This is the value that we want to store in this particular node.\n",
    "\n",
    "self.data = data: This line assigns the data passed to the constructor to an instance variable called data within the Node object.\n",
    "\n",
    "self.next = None: This is crucial. When a new node is created, it doesn't initially point to any other node. Therefore, we initialize its next pointer to None. This signifies that, for now, this node is the last node in any potential sequence it might be part of."
   ]
  },
  {
   "cell_type": "markdown",
   "id": "a69b706e",
   "metadata": {},
   "source": [
    "Visualizing a Single Node:\n",
    "\n",
    "When you create node1 = Node(1), in memory, it will look something like this:\n",
    "\n",
    "+-----+------+\n",
    "|  1  | None |\n",
    "+-----+------+\n",
    "\n",
    "\n",
    "(data) (next)\n",
    "This node exists in memory with its data set to 1, and its next pointer indicating that it's not currently linked to anything else."
   ]
  },
  {
   "cell_type": "code",
   "execution_count": null,
   "id": "2052fcad",
   "metadata": {},
   "outputs": [],
   "source": []
  },
  {
   "cell_type": "markdown",
   "id": "e487b5c9",
   "metadata": {},
   "source": [
    "Intuitive Examples of Linked List Applications\n",
    "Before diving into linking multiple nodes, let's briefly revisit some real-world examples where the concept of linked lists is inherently applied:\n",
    "\n",
    "Music Playlists (YouTube, Spotify):\n",
    "\n",
    "Think about how a music playlist works. You have a sequence of songs. When one song finishes, the \"next\" button takes you to the next song.\n",
    "\n",
    "There's no requirement for all songs in your playlist to be stored contiguously on your hard drive. \"Flower\" by Miley Cyrus might be in one part of your disk, and \"Kill Bill\" by SZA in another.\n",
    "\n",
    "The playlist functionality is like a linked list: each song object (node) essentially \"knows\" which song is next in the playback order. You, as the user, just see the sequence.\n",
    "\n",
    "Treasure Hunt:\n",
    "\n",
    "In a treasure hunt, you receive the first clue. This clue (a node) contains information, and crucially, it points you to the location of the next clue.\n",
    "\n",
    "You follow the instructions of the first clue to find the second, the second leads you to the third, and so on, until you reach the final treasure.\n",
    "\n",
    "The clues are not necessarily physically laid out in a straight line; they could be scattered in various locations, but the \"link\" from one clue to the next ensures you follow the correct path.\n",
    "\n",
    "Browser History (Back/Forward Buttons):\n",
    "\n",
    "This is a slightly more advanced application, often implemented using a doubly linked list (which we'll cover later).\n",
    "\n",
    "When you browse, each page you visit is like a node. The \"back\" button takes you to the previous node, and the \"forward\" button (if you went back and then navigated away from the current page) takes you to a next node. This sequential navigation, where each page remembers its predecessor and successor, is a perfect fit for linked list concepts.\n",
    "\n",
    "These examples underscore that linked lists, while seemingly simple, are the backbone for many features we interact with daily"
   ]
  },
  {
   "cell_type": "code",
   "execution_count": 2,
   "id": "7f985713",
   "metadata": {},
   "outputs": [
    {
     "name": "stdout",
     "output_type": "stream",
     "text": [
      "1994684871840\n",
      "1994684868720\n",
      "1994684869536\n"
     ]
    }
   ],
   "source": [
    "# Create individual nodes\n",
    "first = Node(1)\n",
    "second = Node(2)\n",
    "third = Node(3)\n",
    "\n",
    "# Initially, each node's 'next' pointer is None.\n",
    "# They are independent in memory.\n",
    "# Example:\n",
    "# first:  [1 | None]\n",
    "# second: [2 | None]\n",
    "# third:  [3 | None]\n",
    "\n",
    "# Get their memory addresses (IDs) - these will be different\n",
    "print(id(first))\n",
    "print(id(second))\n",
    "print(id(third))\n",
    "\n"
   ]
  },
  {
   "cell_type": "code",
   "execution_count": 3,
   "id": "c950dfdb",
   "metadata": {},
   "outputs": [],
   "source": [
    "# Link the nodes to form a sequence\n",
    "first.next = second  # The 'first' node now points to the 'second' node\n",
    "second.next = third  # The 'second' node now points to the 'third' node\n",
    "\n",
    "# The 'third' node's next is still None, indicating the end of the list.\n",
    "\n",
    "# Define the head of the linked list\n",
    "head = first # The 'head' pointer always points to the first node in the list"
   ]
  },
  {
   "cell_type": "markdown",
   "id": "93f19810",
   "metadata": {},
   "source": [
    "Step-by-Step Visualization (using Python Tutor logic):\n",
    "\n",
    "first = Node(1): A Node object is created in memory. Let's say its address is 0xAA. It contains data: 1 and next: None. The first variable points to this object.\n",
    "\n",
    "first --> Node(0xAA) [data: 1, next: None]\n",
    "second = Node(2): Another Node object is created, say at 0xBB. It contains data: 2 and next: None. The second variable points to this object.\n",
    "\n",
    "second --> Node(0xBB) [data: 2, next: None]\n",
    "third = Node(3): A third Node object at 0xCC. It contains data: 3 and next: None. The third variable points to this object.\n",
    "\n",
    "third --> Node(0xCC) [data: 3, next: None]\n",
    "At this stage, all three nodes are independent.\n",
    "\n",
    "first.next = second: This is where the linking happens. The next attribute of the first node (which was None) is now updated to store the address of the second node (0xBB).\n",
    "\n",
    "first --> Node(0xAA) [data: 1, next: 0xBB]\n",
    "                       |\n",
    "                       v\n",
    "                       Node(0xBB) [data: 2, next: None]\n",
    "second.next = third: Similarly, the next attribute of the second node is updated to store the address of the third node (0xCC).\n",
    "\n",
    "first --> Node(0xAA) [data: 1, next: 0xBB]\n",
    "                       |\n",
    "                       v\n",
    "                       Node(0xBB) [data: 2, next: 0xCC]\n",
    "                                    |\n",
    "                                    v\n",
    "                                    Node(0xCC) [data: 3, next: None]\n",
    "head = first: We establish a head variable that points to the first node. This head pointer is crucial because it's our entry point to the entire linked list. If we lose the head pointer, we lose access to the rest of the list.\n",
    "\n",
    "The final linked list structure now looks like this:\n",
    "\n",
    "head --> Node(1) --> Node(2) --> Node(3) --> None"
   ]
  },
  {
   "cell_type": "code",
   "execution_count": 4,
   "id": "fbb142e6",
   "metadata": {},
   "outputs": [
    {
     "name": "stdout",
     "output_type": "stream",
     "text": [
      "1\n"
     ]
    }
   ],
   "source": [
    "print(head.data) # Output: 1"
   ]
  },
  {
   "cell_type": "code",
   "execution_count": 5,
   "id": "a76b9f89",
   "metadata": {},
   "outputs": [
    {
     "name": "stdout",
     "output_type": "stream",
     "text": [
      "2\n"
     ]
    }
   ],
   "source": [
    "print(head.next.data) # Output: 2\n",
    "# head.next takes us to the second node. Then .data gets its value."
   ]
  },
  {
   "cell_type": "code",
   "execution_count": 6,
   "id": "8f46f77b",
   "metadata": {},
   "outputs": [
    {
     "name": "stdout",
     "output_type": "stream",
     "text": [
      "3\n"
     ]
    }
   ],
   "source": [
    "print(head.next.next.data) # Output: 3\n",
    "# head.next takes us to the second node.\n",
    "# head.next.next takes us to the third node. Then .data gets its value."
   ]
  },
  {
   "cell_type": "code",
   "execution_count": null,
   "id": "118af2c8",
   "metadata": {},
   "outputs": [],
   "source": []
  }
 ],
 "metadata": {
  "kernelspec": {
   "display_name": "base",
   "language": "python",
   "name": "python3"
  },
  "language_info": {
   "codemirror_mode": {
    "name": "ipython",
    "version": 3
   },
   "file_extension": ".py",
   "mimetype": "text/x-python",
   "name": "python",
   "nbconvert_exporter": "python",
   "pygments_lexer": "ipython3",
   "version": "3.12.4"
  }
 },
 "nbformat": 4,
 "nbformat_minor": 5
}
