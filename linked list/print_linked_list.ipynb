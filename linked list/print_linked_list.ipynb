{
 "cells": [
  {
   "cell_type": "code",
   "execution_count": 2,
   "id": "a377c579",
   "metadata": {},
   "outputs": [],
   "source": [
    "# Assuming 'head' points to the first node (Node(1) -> Node(2) -> Node(3) -> None)\n",
    "#print(head.data)        # Output: 1\n",
    "#print(head.next.data)   # Output: 2\n",
    "#print(head.next.next.data) # Output: 3"
   ]
  },
  {
   "cell_type": "markdown",
   "id": "3ddddb20",
   "metadata": {},
   "source": [
    "While this works for a very small linked list (e.g., 2 or 3 elements), it becomes completely impractical for a linked list with many nodes (e.g., 50 or 100). You wouldn't want to write head.next.next.next... 49 times! We need a more generic and scalable way to print all elements."
   ]
  },
  {
   "cell_type": "code",
   "execution_count": 3,
   "id": "4fd49b68",
   "metadata": {},
   "outputs": [],
   "source": [
    "## essential terminologies\n"
   ]
  },
  {
   "cell_type": "markdown",
   "id": "98b6f806",
   "metadata": {},
   "source": [
    "Essential Linked List Terminologies\n",
    "\n",
    "Before we dive into the printing logic, let's establish some common terminologies used when working with linked lists:\n",
    "\n",
    "Head: This is a pointer (or reference) to the first node of the linked list. It's the entry point to the entire list. In almost all linked list problems and implementations, you will be given (or start with) the head of the list. The understanding is that if you have the head, you can traverse and access any other node in the list."
   ]
  },
  {
   "cell_type": "markdown",
   "id": "2a046436",
   "metadata": {},
   "source": [
    "head\n",
    "  |\n",
    "  V\n",
    "+-----+-----+     +-----+-----+     +-----+-----+\n",
    "| Data| Next| --> | Data| Next| --> | Data| Next| --> None\n",
    "+-----+-----+     +-----+-----+     +-----+-----+"
   ]
  },
  {
   "cell_type": "code",
   "execution_count": 4,
   "id": "46b9121d",
   "metadata": {},
   "outputs": [],
   "source": [
    "##tail"
   ]
  },
  {
   "cell_type": "markdown",
   "id": "12897fd8",
   "metadata": {},
   "source": [
    "Tail: This is the last node of the linked list. Its next pointer always points to None, signifying the end of the list. While not always explicitly given, if needed, you can always find the tail by traversing the list from the head until you reach a node whose next is None."
   ]
  },
  {
   "cell_type": "code",
   "execution_count": 5,
   "id": "4bbd21eb",
   "metadata": {},
   "outputs": [],
   "source": [
    "## developing the printing logic\n"
   ]
  },
  {
   "cell_type": "markdown",
   "id": "0a46e1a1",
   "metadata": {},
   "source": [
    "Developing the Printing Logic\n",
    "\n",
    "Our goal is to print the data of each node in the linked list, one by one.\n",
    "\n",
    "Let's trace a conceptual approach:\n",
    "\n",
    "Start at the Head: We begin with the head pointer. The data of the head node (head.data) is the first thing we want to print.\n",
    "\n",
    "Move to the Next Node: After printing the current node's data, we need to advance to the next node in the sequence. How do we do that? By following the next pointer of the current node. So, if our current pointer is P, the next node is P.next.\n",
    "\n",
    "Repeat: We continue this process: print the current node's data, then move to the next node, and repeat.\n",
    "\n",
    "Stopping Condition: When do we stop? We stop when our current pointer becomes None. This signifies that we have reached the end of the linked list.\n",
    "\n",
    "The \"None.data\" Error:\n",
    "\n",
    "It's absolutely crucial to remember: You cannot access .data or .next on a None object. Doing so will result in an AttributeError: 'NoneType' object has no attribute 'data' (or 'next'). This is the most common error beginners face with linked lists. Always ensure your pointer is not None before trying to access its attributes."
   ]
  },
  {
   "cell_type": "code",
   "execution_count": 6,
   "id": "57562107",
   "metadata": {},
   "outputs": [],
   "source": [
    "class Node:\n",
    "    def __init__(self, data):\n",
    "        self.data = data\n",
    "        self.next = None\n",
    "\n",
    "third = Node(3) # third.next is None\n",
    "\n",
    "# This will cause an error:\n",
    "# print(third.next.data)\n",
    "# Because third.next is None, and you're trying to do None.data"
   ]
  },
  {
   "cell_type": "code",
   "execution_count": 8,
   "id": "932ae5d9",
   "metadata": {},
   "outputs": [
    {
     "name": "stdout",
     "output_type": "stream",
     "text": [
      "1 2 3 \n"
     ]
    }
   ],
   "source": [
    "#Implementing the printLinkedList Function\n",
    "\n",
    "class Node:\n",
    "    def __init__(self, data):\n",
    "        self.data = data\n",
    "        self.next = None\n",
    "\n",
    "def printLinkedList(head):\n",
    "    \"\"\"\n",
    "    Prints all the data values in a linked list.\n",
    "    Takes the head of the linked list as input.\n",
    "    \"\"\"\n",
    "    current_node = head # Start traversing from the head\n",
    "\n",
    "    # Loop as long as the current_node is not None (i.e., we haven't reached the end)\n",
    "    while current_node is not None:\n",
    "        print(current_node.data, end=\" \") # Print the data of the current node\n",
    "        current_node = current_node.next # Move to the next node in the list\n",
    "    print() # Print a newline at the end for better formatting\n",
    "\n",
    "# --- Example Usage ---\n",
    "# Create a sample linked list: 1 -> 2 -> 3\n",
    "first = Node(1)\n",
    "second = Node(2)\n",
    "third = Node(3)\n",
    "\n",
    "first.next = second\n",
    "second.next = third\n",
    "\n",
    "head = first\n",
    "\n",
    "printLinkedList(head) # Output: 1 2 3"
   ]
  },
  {
   "cell_type": "markdown",
   "id": "50d5e760",
   "metadata": {},
   "source": [
    "Explanation and Visualization of printLinkedList:\n",
    "\n",
    "Let's trace printLinkedList(head) with head pointing to Node(1):\n",
    "\n",
    "current_node = head: current_node now points to Node(1).\n",
    "\n",
    "current_node --> Node(1) --> Node(2) --> Node(3) --> None\n",
    "\n",
    "head        --> Node(1)\n",
    "\n",
    "while current_node is not None (Iteration 1):\n",
    "\n",
    "current_node (Node(1)) is not None. Condition is true.\n",
    "\n",
    "print(current_node.data): Prints 1.\n",
    "\n",
    "current_node = current_node.next: current_node now moves to Node(2).\n",
    "\n",
    "current_node ----> Node(2) --> Node(3) --> None\n",
    "\n",
    "head          --> Node(1)\n",
    "\n",
    "while current_node is not None (Iteration 2):\n",
    "\n",
    "current_node (Node(2)) is not None. Condition is true.\n",
    "\n",
    "print(current_node.data): Prints 2.\n",
    "\n",
    "current_node = current_node.next: current_node now moves to Node(3).\n",
    "\n",
    "current_node ----> Node(3) --> None\n",
    "\n",
    "head          --> Node(1)\n",
    "\n",
    "while current_node is not None (Iteration 3):\n",
    "\n",
    "current_node (Node(3)) is not None. Condition is true.\n",
    "\n",
    "print(current_node.data): Prints 3.\n",
    "\n",
    "current_node = current_node.next: current_node now becomes None (because Node(3).next is None).\n",
    "\n",
    "current_node = None\n",
    "\n",
    "head          --> Node(1) --> Node(2) --> Node(3) --> None\n",
    "\n",
    "while current_node is not None (Iteration 4):\n",
    "\n",
    "current_node is None. Condition is false. The loop terminates.\n",
    "\n",
    "print(): Prints a newline.\n",
    "\n",
    "This function correctly prints all elements in the linked list."
   ]
  },
  {
   "cell_type": "code",
   "execution_count": 9,
   "id": "a74873ed",
   "metadata": {},
   "outputs": [
    {
     "name": "stdout",
     "output_type": "stream",
     "text": [
      "1 2 3 \n",
      "1 2 3 \n"
     ]
    }
   ],
   "source": [
    "#The Importance of a Temporary Variable (current_node or temp)\n",
    "#Consider what would happen if we directly used head within our printLinkedList function instead of a current_node (or temp) variable:\n",
    "def printLinkedList_BAD_PRACTICE(head):\n",
    "    while head is not None:\n",
    "        print(head.data, end=\" \")\n",
    "        head = head.next # !!! MODIFIES THE ORIGINAL HEAD REFERENCE !!!\n",
    "    print()\n",
    "\n",
    "# ... (linked list creation) ...\n",
    "head = first # Original head still points to Node(1)\n",
    "\n",
    "printLinkedList_BAD_PRACTICE(head) # Prints 1 2 3\n",
    "printLinkedList_BAD_PRACTICE(head) # Tries to print again, but nothing happens!\n",
    "                                # Because 'head' inside the function became None,\n",
    "                                # and Python's call-by-object-reference means\n",
    "                                # the original 'head' (local to main scope)\n",
    "                                # now also points to None.\n"
   ]
  },
  {
   "cell_type": "markdown",
   "id": "c715987c",
   "metadata": {},
   "source": [
    "Why this is a problem:\n",
    "\n",
    "In Python, when you pass an object (like a Node object that head points to) to a function, the function receives a copy of the reference to that object.\n",
    "\n",
    "If you reassign head = head.next inside the function, you are changing where that local head variable points. When that local head eventually becomes None at the end of the loop, the original head variable (outside the function) also becomes None because they were initially pointing to the same object.\n",
    "\n",
    "This means the original head pointer to your linked list is lost after the first call to printLinkedList_BAD_PRACTICE. If you try to print it again, or perform any other operation, you'll find that your linked list appears empty because the head reference is None."
   ]
  },
  {
   "cell_type": "code",
   "execution_count": 4,
   "id": "7f3c8b2f",
   "metadata": {},
   "outputs": [
    {
     "name": "stdout",
     "output_type": "stream",
     "text": [
      "1 2 3 \n",
      "1 2 3 \n"
     ]
    }
   ],
   "source": [
    "\n",
    "class Node:\n",
    "    def __init__(self, data):\n",
    "        self.data = data\n",
    "        self.next = None\n",
    "\n",
    "def printLinkedList_GOOD_PRACTICE(head):\n",
    "    temp = head # Create a temporary variable pointing to the start of the list\n",
    "    while temp is not None:\n",
    "        print(temp.data, end=\" \")\n",
    "        temp = temp.next # Only the 'temp' variable changes, 'head' remains pointing to the first node\n",
    "    print()\n",
    "\n",
    "# --- Create a sample linked list: 1 -> 2 -> 3 ---\n",
    "# These lines were missing in your execution context, causing the NameError.\n",
    "first = Node(1)\n",
    "second = Node(2)\n",
    "third = Node(3)\n",
    "\n",
    "first.next = second\n",
    "second.next = third\n",
    "\n",
    "head = first # Original head still points to Node(1)\n",
    "\n",
    "# Now call the function\n",
    "printLinkedList_GOOD_PRACTICE(head) # Prints 1 2 3\n",
    "printLinkedList_GOOD_PRACTICE(head) # Prints 1 2 3 again (because head is preserved)"
   ]
  },
  {
   "cell_type": "markdown",
   "id": "23bb3e6d",
   "metadata": {},
   "source": [
    "#Conclusion\n",
    "\n",
    "We've successfully created an efficient and robust way to print a linked list. Key takeaways:\n",
    "\n",
    "Each element is a Node with data and a next pointer.\n",
    "\n",
    "The head pointer is your entry point to the list.\n",
    "\n",
    "Always use a loop (while current_node is not None) to traverse the list.\n",
    "\n",
    "Crucially, use a temporary variable to iterate through the list to avoid losing the original head reference.\n",
    "\n",
    "Never try to access attributes (.data, .next) on a None object.\n",
    "\n"
   ]
  },
  {
   "cell_type": "code",
   "execution_count": null,
   "id": "4a5aa106",
   "metadata": {},
   "outputs": [],
   "source": []
  },
  {
   "cell_type": "code",
   "execution_count": null,
   "id": "666057be",
   "metadata": {},
   "outputs": [],
   "source": []
  }
 ],
 "metadata": {
  "kernelspec": {
   "display_name": "base",
   "language": "python",
   "name": "python3"
  },
  "language_info": {
   "codemirror_mode": {
    "name": "ipython",
    "version": 3
   },
   "file_extension": ".py",
   "mimetype": "text/x-python",
   "name": "python",
   "nbconvert_exporter": "python",
   "pygments_lexer": "ipython3",
   "version": "3.12.4"
  }
 },
 "nbformat": 4,
 "nbformat_minor": 5
}
