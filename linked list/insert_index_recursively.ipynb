{
 "cells": [
  {
   "cell_type": "markdown",
   "id": "a62c56bb",
   "metadata": {},
   "source": [
    "You can insert a node at a specific index in a linked list recursively by creating a helper function that traverses the list. The base cases handle the termination of the recursion, while the recursive step moves closer to the desired index.\n",
    "\n",
    "-----\n",
    "\n",
    "### Recursive Helper Function\n",
    "\n",
    "To insert a node recursively, you need a helper function (let's call it `_insert_recursive`) that takes the **current node**, the **index to insert at**, and the **data** as arguments. This function will return the head of the (possibly modified) sub-list.\n",
    "\n",
    "1.  **Base Case 1: Inserting at the current position (index 0).** If the `index` is `0`, a new `Node` is created. Its `next` pointer is set to the current node, and the new node is returned, making it the new head of this sub-list.\n",
    "2.  **Base Case 2: Index out of bounds.** If the `current` node is `None` and the `index` is still not `0`, it means the provided index is greater than the list's length. This is an invalid insertion point. In this case, you can return `None` or raise an error.\n",
    "3.  **Recursive Step: Traversal.** If neither base case is met, the function calls itself on the `current` node's `next` pointer, decrementing the `index` by `1`. This process continues until one of the base cases is reached.\n",
    "\n",
    "### Code Implementation\n",
    "\n",
    "Here's how you can modify the `LinkedList` class to include a recursive insertion method:"
   ]
  },
  {
   "cell_type": "code",
   "execution_count": 1,
   "id": "e62f21e1",
   "metadata": {},
   "outputs": [
    {
     "name": "stdout",
     "output_type": "stream",
     "text": [
      "Index out of range!\n",
      "10 -> 15 -> 20 -> 25 -> None\n"
     ]
    }
   ],
   "source": [
    "# Node and LinkedList classes as before\n",
    "\n",
    "class Node:\n",
    "    def __init__(self, data):\n",
    "        self.data = data\n",
    "        self.next = None\n",
    "\n",
    "class LinkedList:\n",
    "    def __init__(self):\n",
    "        self.head = None\n",
    "\n",
    "    def _insert_recursive(self, current_node, index, data):\n",
    "        # Base Case 1: Insert at the current position\n",
    "        if index == 0:\n",
    "            new_node = Node(data)\n",
    "            new_node.next = current_node\n",
    "            return new_node\n",
    "        \n",
    "        # Base Case 2: Index out of bounds\n",
    "        if current_node is None:\n",
    "            # You could also raise an IndexError here\n",
    "            print(\"Index out of range!\")\n",
    "            return None\n",
    "\n",
    "        # Recursive Step: Traverse the list\n",
    "        current_node.next = self._insert_recursive(current_node.next, index - 1, data)\n",
    "        return current_node\n",
    "\n",
    "    def insert_at_index_recursive(self, index, data):\n",
    "        self.head = self._insert_recursive(self.head, index, data)\n",
    "\n",
    "    def print_list(self):\n",
    "        current = self.head\n",
    "        while current:\n",
    "            print(current.data, end=\" -> \")\n",
    "            current = current.next\n",
    "        print(\"None\")\n",
    "\n",
    "# -------------------\n",
    "# Example Usage\n",
    "# -------------------\n",
    "ll = LinkedList()\n",
    "ll.insert_at_index_recursive(0, 10)  # Insert 10 at index 0\n",
    "ll.insert_at_index_recursive(1, 20)  # Insert 20 at index 1\n",
    "ll.insert_at_index_recursive(1, 15)  # Insert 15 at index 1\n",
    "ll.insert_at_index_recursive(3, 25)  # Insert 25 at index 3\n",
    "ll.insert_at_index_recursive(10, 99) # Index out of range\n",
    "\n",
    "ll.print_list()"
   ]
  },
  {
   "cell_type": "markdown",
   "id": "e0a49388",
   "metadata": {},
   "source": [
    "🚶 A Step-by-Step Walkthrough\n",
    "Let's re-trace ll.insert_at_index_recursive(1, 15) on the list 10 -> 20 -> None.\n",
    "\n",
    "Initial Call: insert_at_index_recursive(1, 15)\n",
    "\n",
    "It calls _insert_recursive(current_node=10, index=1, data=15).\n",
    "\n",
    "First Recursive Call: _insert_recursive(10, 1, 15)\n",
    "\n",
    "The index is 1 (not 0), so it's not the base case.\n",
    "\n",
    "It makes a recursive call: _insert_recursive(current_node=20, index=0, data=15).\n",
    "\n",
    "It waits for a result.\n",
    "\n",
    "Second Recursive Call (Base Case): _insert_recursive(20, 0, 15)\n",
    "\n",
    "The index is now 0. This is the base case.\n",
    "\n",
    "A new_node (15) is created.\n",
    "\n",
    "new_node.next (15.next) is set to the current node 20. The sub-list is now 15 -> 20.\n",
    "\n",
    "The new_node (15) is returned to the previous call.\n",
    "\n",
    "Returning and Reconnecting: _insert_recursive(10, 1, 15) resumes.\n",
    "\n",
    "The value returned was the 15 node.\n",
    "\n",
    "The line current_node.next = ... becomes 10.next = 15. This links the 10 node to the 15 node.\n",
    "\n",
    "The function then returns current_node (10) to the original caller.\n",
    "\n",
    "Final Step: The insert_at_index_recursive method receives the 10 node and updates self.head to 10. The list is now 10 -> 15 -> 20 -> None."
   ]
  },
  {
   "cell_type": "code",
   "execution_count": null,
   "id": "34cca07d",
   "metadata": {},
   "outputs": [],
   "source": []
  }
 ],
 "metadata": {
  "kernelspec": {
   "display_name": "base",
   "language": "python",
   "name": "python3"
  },
  "language_info": {
   "codemirror_mode": {
    "name": "ipython",
    "version": 3
   },
   "file_extension": ".py",
   "mimetype": "text/x-python",
   "name": "python",
   "nbconvert_exporter": "python",
   "pygments_lexer": "ipython3",
   "version": "3.12.11"
  }
 },
 "nbformat": 4,
 "nbformat_minor": 5
}
