{
 "cells": [
  {
   "cell_type": "code",
   "execution_count": 8,
   "id": "6949c4ab",
   "metadata": {},
   "outputs": [
    {
     "name": "stdout",
     "output_type": "stream",
     "text": [
      "10 ->20 ->30 ->40 ->None\n",
      "30 is found at position 2\n"
     ]
    },
    {
     "data": {
      "text/plain": [
       "<__main__.Node at 0x10590a480>"
      ]
     },
     "execution_count": 8,
     "metadata": {},
     "output_type": "execute_result"
    }
   ],
   "source": [
    "class Node:\n",
    "    def __init__(self,data):\n",
    "        self.data=data\n",
    "        self.next=None\n",
    "    \n",
    "class LinkedList:\n",
    "    def __init__(self):\n",
    "        self.head=None\n",
    "\n",
    "    def append(self,data):\n",
    "        new_node=Node(data)\n",
    "        if self.head is None:\n",
    "            self.head=new_node\n",
    "            return\n",
    "        last=self.head\n",
    "        while last.next:\n",
    "            last=last.next\n",
    "        last.next=new_node \n",
    "\n",
    "    def search(self,key):\n",
    "        #search for the value in the linked list\n",
    "        temp=self.head\n",
    "        position =0\n",
    "        while temp:\n",
    "            if temp.data==key:\n",
    "                print(f\"{key} is found at position {position}\")\n",
    "                return temp\n",
    "            temp=temp.next\n",
    "            position+=1\n",
    "        print(f\"value {key} does not found in the list\")\n",
    "        return None\n",
    "    \n",
    "    def printLL(self):\n",
    "        temp=self.head\n",
    "        while temp:\n",
    "            print(temp.data, end=\" ->\")\n",
    "            temp=temp.next\n",
    "\n",
    "        print(\"None\")\n",
    "\n",
    "\n",
    "ll=LinkedList()\n",
    "ll.append(10)\n",
    "ll.append(20)\n",
    "ll.append(30)\n",
    "ll.append(40)\n",
    "ll.printLL()\n",
    "ll.search(30)"
   ]
  },
  {
   "cell_type": "code",
   "execution_count": 3,
   "id": "d12405ca",
   "metadata": {},
   "outputs": [
    {
     "name": "stdout",
     "output_type": "stream",
     "text": [
      "10 -> 20 -> 30 -> 40 -> None\n",
      "Value 30 found at position 2\n",
      "Value 10 found at position 0\n",
      "Value 50 not found in the list\n"
     ]
    }
   ],
   "source": [
    "class Node:\n",
    "    def __init__(self, data):\n",
    "        self.data = data\n",
    "        self.next = None\n",
    "\n",
    "\n",
    "class LinkedList:\n",
    "    def __init__(self):\n",
    "        self.head = None\n",
    "\n",
    "    def append(self, data):\n",
    "        new_node = Node(data)\n",
    "        if self.head is None:\n",
    "            self.head = new_node\n",
    "            return\n",
    "        last = self.head\n",
    "        while last.next:\n",
    "            last = last.next\n",
    "        last.next = new_node\n",
    "\n",
    "    def search(self, key):\n",
    "        \"\"\"Search for a value in the linked list.\"\"\"\n",
    "        temp = self.head\n",
    "        position = 0\n",
    "        while temp:\n",
    "            if temp.data == key:\n",
    "                print(f\"Value {key} found at position {position}\")\n",
    "                return temp  # return the node itself\n",
    "            temp = temp.next\n",
    "            position += 1\n",
    "        print(f\"Value {key} not found in the list\")\n",
    "        return None\n",
    "\n",
    "    def print_list(self):\n",
    "        temp = self.head\n",
    "        while temp:\n",
    "            print(temp.data, end=\" -> \")\n",
    "            temp = temp.next\n",
    "        print(\"None\")\n",
    "\n",
    "\n",
    "# Example usage:\n",
    "ll = LinkedList()\n",
    "ll.append(10)\n",
    "ll.append(20)\n",
    "ll.append(30)\n",
    "ll.append(40)\n",
    "\n",
    "ll.print_list()\n",
    "\n",
    "ll.search(30)   # present in middle\n",
    "ll.search(10)   # head\n",
    "ll.search(50)   # not present\n"
   ]
  },
  {
   "cell_type": "code",
   "execution_count": null,
   "id": "be79ef10",
   "metadata": {},
   "outputs": [],
   "source": []
  },
  {
   "cell_type": "code",
   "execution_count": null,
   "id": "d57dcf57",
   "metadata": {},
   "outputs": [],
   "source": []
  }
 ],
 "metadata": {
  "kernelspec": {
   "display_name": "base",
   "language": "python",
   "name": "python3"
  },
  "language_info": {
   "codemirror_mode": {
    "name": "ipython",
    "version": 3
   },
   "file_extension": ".py",
   "mimetype": "text/x-python",
   "name": "python",
   "nbconvert_exporter": "python",
   "pygments_lexer": "ipython3",
   "version": "3.12.11"
  }
 },
 "nbformat": 4,
 "nbformat_minor": 5
}
