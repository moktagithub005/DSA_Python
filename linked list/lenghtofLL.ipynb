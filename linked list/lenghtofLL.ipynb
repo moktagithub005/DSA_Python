{
 "cells": [
  {
   "cell_type": "markdown",
   "id": "1a2adb5e",
   "metadata": {},
   "source": [
    "Iterative Approach:\n",
    "\n",
    "The iterative approach involves traversing the linked list from the head to the end, maintaining a counter for the number of nodes.\n",
    "\n",
    "Logic:\n",
    "\n",
    "Initialize a temp variable to the head of the linked list.\n",
    "\n",
    "Initialize an answer (count) variable to 0.\n",
    "\n",
    "While temp is not None (meaning we haven't reached the end of the list):\n",
    "\n",
    "Increment the answer by 1.\n",
    "\n",
    "Move temp to the next node (temp = temp.next).\n",
    "\n",
    "Once temp becomes None, return the answer.\n",
    "\n",
    "Edge Case Handling (as mentioned by the user):\n",
    "\n",
    "If the head is None (empty list), the while loop will not execute, and answer (which is 0) will be returned, which is correct."
   ]
  },
  {
   "cell_type": "code",
   "execution_count": 1,
   "id": "81fab1f3",
   "metadata": {},
   "outputs": [],
   "source": [
    "def length_of_linked_list(head):\n",
    "    temp = head\n",
    "    answer = 0\n",
    "    while temp is not None:\n",
    "        answer += 1\n",
    "        temp = temp.next\n",
    "    return answer"
   ]
  },
  {
   "cell_type": "markdown",
   "id": "1b19f393",
   "metadata": {},
   "source": [
    "Recursive Approach:\n",
    "\n",
    "The recursive approach leverages the self-similar nature of a linked list (a linked list starting from head.next is also a linked list).\n",
    "\n",
    "Three Steps of Recursion:\n",
    "\n",
    "Base Case: When the head is None, it means we've reached the end of an empty sub-list. The length of an empty list is 0. So, return 0.\n",
    "\n",
    "Recursive Call: Assume that the function can correctly find the length of the sub-list starting from head.next. This is the \"recursive answer.\" Call the function itself with head.next as the new head.\n",
    "\n",
    "Small Work (Our Work): Once the recursive call returns the length of the rest of the list (recursion_answer), we just need to add 1 to it (for the current head node) to get the total length. So, return 1 + recursion_answer.\n",
    "\n",
    "Flow/Dry Run Explanation:\n",
    "\n",
    "length(node10):\n",
    "\n",
    "head is not None.\n",
    "\n",
    "Calls length(node20)\n",
    "\n",
    "head is not None.\n",
    "\n",
    "Calls length(node30)\n",
    "\n",
    "head is not None.\n",
    "\n",
    "Calls length(node40)\n",
    "\n",
    "head is not None.\n",
    "\n",
    "Calls length(node50)\n",
    "\n",
    "head is not None.\n",
    "\n",
    "Calls length(None) (since node50.next is None)\n",
    "\n",
    "Base Case: head is None, returns 0.\n",
    "\n",
    "Returns 1 + 0 = 1 (length of sub-list from node50 onwards).\n",
    "\n",
    "Returns 1 + 1 = 2 (length of sub-list from node40 onwards).\n",
    "\n",
    "Returns 1 + 2 = 3 (length of sub-list from node30 onwards).\n",
    "\n",
    "Returns 1 + 3 = 4 (length of sub-list from node20 onwards).\n",
    "\n",
    "Returns 1 + 4 = 5 (total length from node10 onwards)."
   ]
  },
  {
   "cell_type": "code",
   "execution_count": 2,
   "id": "f731c8e2",
   "metadata": {},
   "outputs": [],
   "source": [
    "def length_of_linked_list_recursive(head):\n",
    "    # Base Case\n",
    "    if head is None:\n",
    "        return 0\n",
    "\n",
    "    # Recursive Call\n",
    "    recursion_answer = length_of_linked_list_recursive(head.next)\n",
    "\n",
    "    # Small Work (Our Work)\n",
    "    return 1 + recursion_answer"
   ]
  },
  {
   "cell_type": "code",
   "execution_count": null,
   "id": "eea25b12",
   "metadata": {},
   "outputs": [],
   "source": []
  },
  {
   "cell_type": "code",
   "execution_count": null,
   "id": "12428044",
   "metadata": {},
   "outputs": [],
   "source": []
  },
  {
   "cell_type": "code",
   "execution_count": null,
   "id": "fdf44041",
   "metadata": {},
   "outputs": [],
   "source": []
  },
  {
   "cell_type": "code",
   "execution_count": null,
   "id": "cf0810d2",
   "metadata": {},
   "outputs": [],
   "source": []
  }
 ],
 "metadata": {
  "kernelspec": {
   "display_name": "base",
   "language": "python",
   "name": "python3"
  },
  "language_info": {
   "codemirror_mode": {
    "name": "ipython",
    "version": 3
   },
   "file_extension": ".py",
   "mimetype": "text/x-python",
   "name": "python",
   "nbconvert_exporter": "python",
   "pygments_lexer": "ipython3",
   "version": "3.12.4"
  }
 },
 "nbformat": 4,
 "nbformat_minor": 5
}
